{
 "cells": [
  {
   "cell_type": "markdown",
   "id": "15373bf8",
   "metadata": {},
   "source": [
    "# Brendon McNulty — ML Final\n",
    "**Project 7** · Chart a Straight Line (10.16) + Predict Avg High Temp in NYC in January (15.4)\n",
    "\n",
    "Repo: (https://github.com/brendonmcnulty/datafun-07-ml)\n",
    "\n",
    "This notebook follows the Module 7 Outline:\n",
    "- **Part 1**: Chart a Straight Line\n",
    "- **Part 2**: Data Acquisition · Inspection · Cleaning · Descriptives\n",
    "- **Part 3**: Build · Test · Predict (2024) · Visualize\n"
   ]
  },
  {
   "cell_type": "code",
   "execution_count": null,
   "id": "0f0a4f46",
   "metadata": {},
   "outputs": [],
   "source": [
    "import warnings; warnings.filterwarnings(\"ignore\")\n",
    "\n",
    "import numpy as np\n",
    "import pandas as pd\n",
    "import matplotlib.pyplot as plt\n",
    "import seaborn as sns\n",
    "\n",
    "from sklearn.model_selection import train_test_split\n",
    "from sklearn.linear_model import LinearRegression\n",
    "from sklearn.metrics import r2_score, mean_absolute_error, mean_squared_error\n",
    "\n",
    "# plotting defaults\n",
    "plt.rcParams[\"figure.figsize\"] = (7,5)\n",
    "plt.rcParams[\"axes.grid\"] = True\n",
    "\n",
    "# data path from your repo\n",
    "DATA_PATH = \"examples/ch15/ave_hi_nyc_jan_1895-2018.csv\"\n",
    "RANDOM_STATE = 11\n"
   ]
  },
  {
   "cell_type": "markdown",
   "id": "d7a0232e",
   "metadata": {},
   "source": [
    "## Part 1 — Chart a Straight Line (10.16)\n",
    "\n",
    "Refresh the linear equation **y = m x + b** with a simple Celsius→Fahrenheit line.\n"
   ]
  },
  {
   "cell_type": "code",
   "execution_count": null,
   "id": "4ea2b908",
   "metadata": {},
   "outputs": [],
   "source": [
    "# Celsius to Fahrenheit: F = 1.8*C + 32  (m=1.8, b=32)\n",
    "c = np.arange(-20, 41, 5)\n",
    "f = 1.8 * c + 32\n",
    "cf_df = pd.DataFrame({\"Celsius\": c, \"Fahrenheit\": f})\n",
    "display(cf_df.head())\n",
    "\n",
    "ax = sns.lineplot(data=cf_df, x=\"Celsius\", y=\"Fahrenheit\", marker=\"o\")\n",
    "ax.set_title(\"Straight Line Demo: F = 1.8*C + 32\")\n",
    "plt.show()\n"
   ]
  }
 ],
 "metadata": {
  "kernelspec": {
   "display_name": ".venv (3.13.7)",
   "language": "python",
   "name": "python3"
  },
  "language_info": {
   "name": "python",
   "version": "3.13.7"
  }
 },
 "nbformat": 4,
 "nbformat_minor": 5
}
