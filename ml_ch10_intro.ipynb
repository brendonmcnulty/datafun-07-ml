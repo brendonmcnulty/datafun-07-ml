{
 "cells": [
  {
   "cell_type": "markdown",
   "id": "7fa31dfb",
   "metadata": {},
   "source": [
    "# Chapter 10: Object-Oriented Programming and Intro to Data Science\n",
    "**Brendon McNulty**\n",
    "\n",
    "This notebook explores concepts from Chapter 10 of *Intro to Python for Computer Science and Data Science*,\n",
    "including classes, inheritance, and a brief introduction to time series and simple linear regression.\n"
   ]
  },
  {
   "cell_type": "code",
   "execution_count": 1,
   "id": "a88ce936",
   "metadata": {},
   "outputs": [
    {
     "name": "stdout",
     "output_type": "stream",
     "text": [
      "Brendon's balance is $130\n"
     ]
    }
   ],
   "source": [
    "class Account:\n",
    "    \"\"\"Simple Account class for demonstration.\"\"\"\n",
    "    def __init__(self, name, balance):\n",
    "        self.name = name\n",
    "        self.balance = balance\n",
    "    \n",
    "    def deposit(self, amount):\n",
    "        self.balance += amount\n",
    "\n",
    "    def withdraw(self, amount):\n",
    "        if amount <= self.balance:\n",
    "            self.balance -= amount\n",
    "        else:\n",
    "            print(\"Insufficient funds\")\n",
    "\n",
    "acct = Account(\"Brendon\", 100)\n",
    "acct.deposit(50)\n",
    "acct.withdraw(20)\n",
    "print(f\"{acct.name}'s balance is ${acct.balance}\")\n"
   ]
  }
 ],
 "metadata": {
  "kernelspec": {
   "display_name": ".venv (3.13.7)",
   "language": "python",
   "name": "python3"
  },
  "language_info": {
   "codemirror_mode": {
    "name": "ipython",
    "version": 3
   },
   "file_extension": ".py",
   "mimetype": "text/x-python",
   "name": "python",
   "nbconvert_exporter": "python",
   "pygments_lexer": "ipython3",
   "version": "3.13.7"
  }
 },
 "nbformat": 4,
 "nbformat_minor": 5
}
