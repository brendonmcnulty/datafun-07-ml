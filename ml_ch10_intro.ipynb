{
 "cells": [
  {
   "cell_type": "markdown",
   "id": "7fa31dfb",
   "metadata": {},
   "source": [
    "# Chapter 10: Object-Oriented Programming and Intro to Data Science\n",
    "**Brendon McNulty**\n",
    "\n",
    "This notebook explores concepts from Chapter 10 of *Intro to Python for Computer Science and Data Science*,\n",
    "including classes, inheritance, and a brief introduction to time series and simple linear regression.\n"
   ]
  },
  {
   "cell_type": "code",
   "execution_count": 1,
   "id": "a88ce936",
   "metadata": {},
   "outputs": [
    {
     "name": "stdout",
     "output_type": "stream",
     "text": [
      "Brendon's balance is $130\n"
     ]
    }
   ],
   "source": [
    "class Account:\n",
    "    \"\"\"Simple Account class for demonstration.\"\"\"\n",
    "    def __init__(self, name, balance):\n",
    "        self.name = name\n",
    "        self.balance = balance\n",
    "    \n",
    "    def deposit(self, amount):\n",
    "        self.balance += amount\n",
    "\n",
    "    def withdraw(self, amount):\n",
    "        if amount <= self.balance:\n",
    "            self.balance -= amount\n",
    "        else:\n",
    "            print(\"Insufficient funds\")\n",
    "\n",
    "acct = Account(\"Brendon\", 100)\n",
    "acct.deposit(50)\n",
    "acct.withdraw(20)\n",
    "print(f\"{acct.name}'s balance is ${acct.balance}\")\n"
   ]
  },
  {
   "cell_type": "markdown",
   "id": "57c26707",
   "metadata": {},
   "source": [
    "## Object-Oriented Programming Example — `Account` Class\n",
    "\n",
    "This example is adapted from *Intro to Python for Computer Science and Data Science, Chapter 10*.  \n",
    "It demonstrates several key Object-Oriented Programming (OOP) concepts:\n",
    "\n",
    "- **Classes**: Templates that define the structure and behavior of objects.  \n",
    "- **Objects (Instances)**: Specific examples created from a class (like individual bank accounts).  \n",
    "- **Attributes**: Variables that store data related to an object (e.g., account holder name, balance).  \n",
    "- **Methods**: Functions defined inside a class that operate on its data (e.g., deposit, withdraw).  \n",
    "- **Encapsulation**: Bundling data (attributes) and behavior (methods) together to control how data is accessed and modified.\n",
    "\n",
    "In this `Account` class example:\n",
    "- Each account object stores an owner’s name and balance.\n",
    "- The `deposit()` and `withdraw()` methods update the balance safely.\n",
    "- We can create multiple account objects — each maintains its own state.\n",
    "\n",
    "This structure is the foundation of OOP in Python and helps organize complex data programs, such as analytics systems or machine learning pipelines.\n"
   ]
  },
  {
   "cell_type": "code",
   "execution_count": 2,
   "id": "2190dcac",
   "metadata": {},
   "outputs": [
    {
     "name": "stdout",
     "output_type": "stream",
     "text": [
      "Brendon's remaining balance: $85.00\n"
     ]
    }
   ],
   "source": [
    "from examples.ch10.account import Account\n",
    "\n",
    "acct = Account(\"Brendon\", 100.00)\n",
    "acct.deposit(25.00)\n",
    "acct.withdraw(40.00)\n",
    "print(f\"{acct.name}'s remaining balance: ${acct.balance:.2f}\")\n"
   ]
  }
 ],
 "metadata": {
  "kernelspec": {
   "display_name": ".venv (3.13.7)",
   "language": "python",
   "name": "python3"
  },
  "language_info": {
   "codemirror_mode": {
    "name": "ipython",
    "version": 3
   },
   "file_extension": ".py",
   "mimetype": "text/x-python",
   "name": "python",
   "nbconvert_exporter": "python",
   "pygments_lexer": "ipython3",
   "version": "3.13.7"
  }
 },
 "nbformat": 4,
 "nbformat_minor": 5
}
